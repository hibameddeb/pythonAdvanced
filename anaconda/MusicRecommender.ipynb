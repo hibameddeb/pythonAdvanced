{
 "cells": [
  {
   "cell_type": "code",
   "execution_count": 8,
   "id": "e61a9089-6e55-4257-b961-3cef7064be2b",
   "metadata": {
    "scrolled": true
   },
   "outputs": [
    {
     "name": "stdout",
     "output_type": "stream",
     "text": [
      "   age  gender   genre\n",
      "0   20       1  HipHop\n",
      "1   23       1  HipHop\n",
      "2   25       1  HipHop\n",
      "3   26       1    Jazz\n",
      "4   29       1    Jazz\n",
      "             age     gender\n",
      "count  18.000000  18.000000\n",
      "mean   27.944444   0.500000\n",
      "std     5.127460   0.514496\n",
      "min    20.000000   0.000000\n",
      "25%    25.000000   0.000000\n",
      "50%    28.000000   0.500000\n",
      "75%    31.000000   1.000000\n",
      "max    37.000000   1.000000\n",
      "(18, 3)\n",
      "Accuracy: 1.0\n"
     ]
    },
    {
     "data": {
      "text/plain": [
       "['music_recommender.joblib']"
      ]
     },
     "execution_count": 8,
     "metadata": {},
     "output_type": "execute_result"
    }
   ],
   "source": [
    "import pandas as pd\n",
    "import numpy as np\n",
    "from sklearn.model_selection import train_test_split\n",
    "from sklearn.tree import DecisionTreeClassifier\n",
    "from sklearn.metrics import accuracy_score\n",
    "import joblib\n",
    "\n",
    "df = pd.read_csv('music.csv')\n",
    "print(df.head())  # View first 5 rows\n",
    "print(df.describe())  # Statistical summary\n",
    "print(df.shape)  # Expected output: (18, 3)\n",
    "\n",
    "X = df.drop(columns=['genre'])\n",
    "y = df['genre']\n",
    "\n",
    "X_train, X_test, y_train, y_test = train_test_split(X, y, test_size=0.2, random_state=42)\n",
    "\n",
    "model = DecisionTreeClassifier()\n",
    "model.fit(X_train, y_train)\n",
    "\n",
    "predictions = model.predict(X_test)\n",
    "accuracy = accuracy_score(y_test, predictions)\n",
    "print(f'Accuracy: {accuracy}')\n",
    "\n",
    "joblib.dump(model, 'music_recommender.joblib')\n"
   ]
  }
 ],
 "metadata": {
  "kernelspec": {
   "display_name": "Python [conda env:base] *",
   "language": "python",
   "name": "conda-base-py"
  },
  "language_info": {
   "codemirror_mode": {
    "name": "ipython",
    "version": 3
   },
   "file_extension": ".py",
   "mimetype": "text/x-python",
   "name": "python",
   "nbconvert_exporter": "python",
   "pygments_lexer": "ipython3",
   "version": "3.12.7"
  }
 },
 "nbformat": 4,
 "nbformat_minor": 5
}
